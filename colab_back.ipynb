{
  "nbformat": 4,
  "nbformat_minor": 0,
  "metadata": {
    "colab": {
      "name": "Untitled0.ipynb",
      "provenance": [],
      "collapsed_sections": []
    },
    "kernelspec": {
      "name": "python3",
      "display_name": "Python 3"
    },
    "language_info": {
      "name": "python"
    }
  },
  "cells": [
    {
      "cell_type": "code",
      "source": [
        "!pip install -U -q PyDrive"
      ],
      "metadata": {
        "id": "_9AkEUDZyJPz"
      },
      "execution_count": 1,
      "outputs": []
    },
    {
      "cell_type": "code",
      "source": [
        "from pydrive.auth import GoogleAuth\n",
        "from pydrive.drive import GoogleDrive\n",
        "from google.colab import auth\n",
        "from oauth2client.client import GoogleCredentials\n",
        "# Authenticate and create the PyDrive client.\n",
        "# This only needs to be done once per notebook.\n",
        "auth.authenticate_user()\n",
        "gauth = GoogleAuth()\n",
        "gauth.credentials = GoogleCredentials.get_application_default()\n",
        "drive = GoogleDrive(gauth)"
      ],
      "metadata": {
        "id": "LwINd-2cyL8W"
      },
      "execution_count": 2,
      "outputs": []
    },
    {
      "cell_type": "code",
      "source": [
        "file_id = '1Grcn7WTEfnHOiYsTldEdnPaeMoATUQYn' # URL id. \n",
        "# https://drive.google.com/file/d/1Grcn7WTEfnHOiYsTldEdnPaeMoATUQYn/view?usp=sharing\n",
        "downloaded = drive.CreateFile({'id': file_id})\n",
        "downloaded.GetContentFile('lastfm_processed_final.parquet')"
      ],
      "metadata": {
        "id": "pPjyKbdxyNtz"
      },
      "execution_count": 3,
      "outputs": []
    },
    {
      "cell_type": "code",
      "source": [
        "!ls #to verify content"
      ],
      "metadata": {
        "colab": {
          "base_uri": "https://localhost:8080/"
        },
        "id": "oXOpPsY6yTXv",
        "outputId": "3c74cd46-9e5d-4723-b966-a045559ac588"
      },
      "execution_count": 4,
      "outputs": [
        {
          "output_type": "stream",
          "name": "stdout",
          "text": [
            "lastfm_processed_final.parquet\tsample_data\n"
          ]
        }
      ]
    },
    {
      "cell_type": "code",
      "execution_count": 123,
      "metadata": {
        "id": "BHh0INUcs5ON"
      },
      "outputs": [],
      "source": [
        "import pandas as pd\n",
        "\n",
        "df = pd.read_parquet(\"lastfm_processed_final.parquet\")"
      ]
    },
    {
      "cell_type": "code",
      "source": [
        "df.columns"
      ],
      "metadata": {
        "colab": {
          "base_uri": "https://localhost:8080/"
        },
        "id": "Kc9gkaiuq7UB",
        "outputId": "029a0f5b-6f75-4d10-f5f8-3e5155f21bdd"
      },
      "execution_count": 6,
      "outputs": [
        {
          "output_type": "execute_result",
          "data": {
            "text/plain": [
              "Index(['user_id', 'md5_tn', 'md5_an', 'artist_id', 'track_id', 'artist_name',\n",
              "       'track_name', 'date_played', 'registered', 'timestamp', 'dur_secs',\n",
              "       'gender', 'age', 'country'],\n",
              "      dtype='object')"
            ]
          },
          "metadata": {},
          "execution_count": 6
        }
      ]
    },
    {
      "cell_type": "code",
      "source": [
        "if \"user_000001\" in df.user_id.values:\n",
        "    print('Element exists in Dataframe')"
      ],
      "metadata": {
        "colab": {
          "base_uri": "https://localhost:8080/"
        },
        "id": "qh6vLEOhKT3S",
        "outputId": "31cd8859-d86b-4f73-dedb-8bc440bc2ff4"
      },
      "execution_count": 7,
      "outputs": [
        {
          "output_type": "stream",
          "name": "stdout",
          "text": [
            "Element exists in Dataframe\n"
          ]
        }
      ]
    },
    {
      "cell_type": "code",
      "source": [
        "df[df['user_id'] == \"user_000001\"].loc[0]"
      ],
      "metadata": {
        "id": "-ey70-Dl86MC",
        "outputId": "53430e6e-b124-4ad4-98fc-c98eb6decc6b",
        "colab": {
          "base_uri": "https://localhost:8080/"
        }
      },
      "execution_count": 8,
      "outputs": [
        {
          "output_type": "execute_result",
          "data": {
            "text/plain": [
              "user_id                                 user_000001\n",
              "md5_tn             5c69d2cda1fe628900f5267b5308263e\n",
              "md5_an             7952919f01999ef15c40c7c2b69f6fa4\n",
              "artist_id      69158f97-4c07-4c4e-baf8-4e4ab1ed666e\n",
              "track_id       ef756a43-0905-4e59-8f05-a6b2bd977aa8\n",
              "artist_name                        BOARDS OF CANADA\n",
              "track_name                            DAYVAN COWBOY\n",
              "date_played                              2006-08-13\n",
              "registered                      2006-08-13 00:00:00\n",
              "timestamp                       2006-08-13 17:58:51\n",
              "dur_secs                                 301.146022\n",
              "gender                                            M\n",
              "age                                             NaN\n",
              "country                                       JAPAN\n",
              "Name: 0, dtype: object"
            ]
          },
          "metadata": {},
          "execution_count": 8
        }
      ]
    },
    {
      "cell_type": "code",
      "source": [
        "df[df['user_id'] == \"user_000001\"].gender.loc[0]"
      ],
      "metadata": {
        "colab": {
          "base_uri": "https://localhost:8080/",
          "height": 35
        },
        "id": "ak-3DbbK2wGb",
        "outputId": "712ddfce-fe5f-480e-c4e9-a44a3bf0387b"
      },
      "execution_count": 9,
      "outputs": [
        {
          "output_type": "execute_result",
          "data": {
            "text/plain": [
              "'M'"
            ],
            "application/vnd.google.colaboratory.intrinsic+json": {
              "type": "string"
            }
          },
          "metadata": {},
          "execution_count": 9
        }
      ]
    },
    {
      "cell_type": "code",
      "source": [
        "country = df[df['user_id'] == \"user_000001\"].country.loc[0]\n",
        "print(country)"
      ],
      "metadata": {
        "colab": {
          "base_uri": "https://localhost:8080/"
        },
        "id": "MHI023Gy2-R_",
        "outputId": "e8834ec8-c1e7-4f77-e936-016864fde32a"
      },
      "execution_count": 10,
      "outputs": [
        {
          "output_type": "stream",
          "name": "stdout",
          "text": [
            "JAPAN\n"
          ]
        }
      ]
    },
    {
      "cell_type": "code",
      "source": [
        "age = df[df['user_id'] == \"user_000001\"].age.loc[0]\n",
        "print(age)"
      ],
      "metadata": {
        "colab": {
          "base_uri": "https://localhost:8080/"
        },
        "id": "UbxZUfff3AFZ",
        "outputId": "c3853d0c-7628-4f4f-f439-168e32b5b082"
      },
      "execution_count": 11,
      "outputs": [
        {
          "output_type": "stream",
          "name": "stdout",
          "text": [
            "nan\n"
          ]
        }
      ]
    },
    {
      "cell_type": "code",
      "source": [
        "mas_escuchados_artistas = df[df['user_id'] == \"user_000001\"].groupby(\"artist_name\").count()\n",
        "mas_escuchados_artistas = mas_escuchados_artistas.sort_values('user_id',ascending=False)\n",
        "mas_escuchados_artistas = mas_escuchados_artistas.iloc[:5].index\n",
        "mas_escuchados_artistas.values"
      ],
      "metadata": {
        "colab": {
          "base_uri": "https://localhost:8080/"
        },
        "id": "TwFA1_Dy3Bwz",
        "outputId": "c76a22e8-ff6d-4c56-e9a5-f34921c908d5"
      },
      "execution_count": 12,
      "outputs": [
        {
          "output_type": "execute_result",
          "data": {
            "text/plain": [
              "array(['UNDERWORLD', 'CORNELIUS', 'Å\\x9d\\x82Æ\\x9c¬É¾\\x8dÄ¸\\x80', 'PLAID',\n",
              "       'BJÃ¶RK'], dtype=object)"
            ]
          },
          "metadata": {},
          "execution_count": 12
        }
      ]
    },
    {
      "cell_type": "code",
      "source": [
        "mas_escuchados_artistas_count = df[df['user_id'] == \"user_000001\"].groupby(\"artist_name\").count()\n",
        "mas_escuchados_artistas_count = mas_escuchados_artistas_count.sort_values('user_id',ascending=False)\n",
        "mas_escuchados_artistas_count = mas_escuchados_artistas_count.iloc[:5]\n",
        "mas_escuchados_artistas_count"
      ],
      "metadata": {
        "colab": {
          "base_uri": "https://localhost:8080/",
          "height": 238
        },
        "id": "sA5n0-MeT7bH",
        "outputId": "baa986b2-ee28-4975-f490-7878c2e36272"
      },
      "execution_count": 13,
      "outputs": [
        {
          "output_type": "execute_result",
          "data": {
            "text/plain": [
              "              user_id  md5_tn  md5_an  artist_id  track_id  track_name  \\\n",
              "artist_name                                                              \n",
              "UNDERWORLD        689     689     689        689       689         689   \n",
              "CORNELIUS         454     454     454        454       454         454   \n",
              "ÅÆ¬É¾Ä¸      434     434     434        434       434         434   \n",
              "PLAID             419     419     419        419       419         419   \n",
              "BJÃ¶RK            410     410     410        410       410         410   \n",
              "\n",
              "              date_played  registered  timestamp  dur_secs  gender  age  \\\n",
              "artist_name                                                               \n",
              "UNDERWORLD            689         689        689       689     689    0   \n",
              "CORNELIUS             454         454        454       454     454    0   \n",
              "ÅÆ¬É¾Ä¸          434         434        434       434     434    0   \n",
              "PLAID                 419         419        419       419     419    0   \n",
              "BJÃ¶RK                410         410        410       410     410    0   \n",
              "\n",
              "              country  \n",
              "artist_name            \n",
              "UNDERWORLD        689  \n",
              "CORNELIUS         454  \n",
              "ÅÆ¬É¾Ä¸      434  \n",
              "PLAID             419  \n",
              "BJÃ¶RK            410  "
            ],
            "text/html": [
              "\n",
              "  <div id=\"df-79696001-e1d3-4dd3-822d-949b721a6717\">\n",
              "    <div class=\"colab-df-container\">\n",
              "      <div>\n",
              "<style scoped>\n",
              "    .dataframe tbody tr th:only-of-type {\n",
              "        vertical-align: middle;\n",
              "    }\n",
              "\n",
              "    .dataframe tbody tr th {\n",
              "        vertical-align: top;\n",
              "    }\n",
              "\n",
              "    .dataframe thead th {\n",
              "        text-align: right;\n",
              "    }\n",
              "</style>\n",
              "<table border=\"1\" class=\"dataframe\">\n",
              "  <thead>\n",
              "    <tr style=\"text-align: right;\">\n",
              "      <th></th>\n",
              "      <th>user_id</th>\n",
              "      <th>md5_tn</th>\n",
              "      <th>md5_an</th>\n",
              "      <th>artist_id</th>\n",
              "      <th>track_id</th>\n",
              "      <th>track_name</th>\n",
              "      <th>date_played</th>\n",
              "      <th>registered</th>\n",
              "      <th>timestamp</th>\n",
              "      <th>dur_secs</th>\n",
              "      <th>gender</th>\n",
              "      <th>age</th>\n",
              "      <th>country</th>\n",
              "    </tr>\n",
              "    <tr>\n",
              "      <th>artist_name</th>\n",
              "      <th></th>\n",
              "      <th></th>\n",
              "      <th></th>\n",
              "      <th></th>\n",
              "      <th></th>\n",
              "      <th></th>\n",
              "      <th></th>\n",
              "      <th></th>\n",
              "      <th></th>\n",
              "      <th></th>\n",
              "      <th></th>\n",
              "      <th></th>\n",
              "      <th></th>\n",
              "    </tr>\n",
              "  </thead>\n",
              "  <tbody>\n",
              "    <tr>\n",
              "      <th>UNDERWORLD</th>\n",
              "      <td>689</td>\n",
              "      <td>689</td>\n",
              "      <td>689</td>\n",
              "      <td>689</td>\n",
              "      <td>689</td>\n",
              "      <td>689</td>\n",
              "      <td>689</td>\n",
              "      <td>689</td>\n",
              "      <td>689</td>\n",
              "      <td>689</td>\n",
              "      <td>689</td>\n",
              "      <td>0</td>\n",
              "      <td>689</td>\n",
              "    </tr>\n",
              "    <tr>\n",
              "      <th>CORNELIUS</th>\n",
              "      <td>454</td>\n",
              "      <td>454</td>\n",
              "      <td>454</td>\n",
              "      <td>454</td>\n",
              "      <td>454</td>\n",
              "      <td>454</td>\n",
              "      <td>454</td>\n",
              "      <td>454</td>\n",
              "      <td>454</td>\n",
              "      <td>454</td>\n",
              "      <td>454</td>\n",
              "      <td>0</td>\n",
              "      <td>454</td>\n",
              "    </tr>\n",
              "    <tr>\n",
              "      <th>ÅÆ¬É¾Ä¸</th>\n",
              "      <td>434</td>\n",
              "      <td>434</td>\n",
              "      <td>434</td>\n",
              "      <td>434</td>\n",
              "      <td>434</td>\n",
              "      <td>434</td>\n",
              "      <td>434</td>\n",
              "      <td>434</td>\n",
              "      <td>434</td>\n",
              "      <td>434</td>\n",
              "      <td>434</td>\n",
              "      <td>0</td>\n",
              "      <td>434</td>\n",
              "    </tr>\n",
              "    <tr>\n",
              "      <th>PLAID</th>\n",
              "      <td>419</td>\n",
              "      <td>419</td>\n",
              "      <td>419</td>\n",
              "      <td>419</td>\n",
              "      <td>419</td>\n",
              "      <td>419</td>\n",
              "      <td>419</td>\n",
              "      <td>419</td>\n",
              "      <td>419</td>\n",
              "      <td>419</td>\n",
              "      <td>419</td>\n",
              "      <td>0</td>\n",
              "      <td>419</td>\n",
              "    </tr>\n",
              "    <tr>\n",
              "      <th>BJÃ¶RK</th>\n",
              "      <td>410</td>\n",
              "      <td>410</td>\n",
              "      <td>410</td>\n",
              "      <td>410</td>\n",
              "      <td>410</td>\n",
              "      <td>410</td>\n",
              "      <td>410</td>\n",
              "      <td>410</td>\n",
              "      <td>410</td>\n",
              "      <td>410</td>\n",
              "      <td>410</td>\n",
              "      <td>0</td>\n",
              "      <td>410</td>\n",
              "    </tr>\n",
              "  </tbody>\n",
              "</table>\n",
              "</div>\n",
              "      <button class=\"colab-df-convert\" onclick=\"convertToInteractive('df-79696001-e1d3-4dd3-822d-949b721a6717')\"\n",
              "              title=\"Convert this dataframe to an interactive table.\"\n",
              "              style=\"display:none;\">\n",
              "        \n",
              "  <svg xmlns=\"http://www.w3.org/2000/svg\" height=\"24px\"viewBox=\"0 0 24 24\"\n",
              "       width=\"24px\">\n",
              "    <path d=\"M0 0h24v24H0V0z\" fill=\"none\"/>\n",
              "    <path d=\"M18.56 5.44l.94 2.06.94-2.06 2.06-.94-2.06-.94-.94-2.06-.94 2.06-2.06.94zm-11 1L8.5 8.5l.94-2.06 2.06-.94-2.06-.94L8.5 2.5l-.94 2.06-2.06.94zm10 10l.94 2.06.94-2.06 2.06-.94-2.06-.94-.94-2.06-.94 2.06-2.06.94z\"/><path d=\"M17.41 7.96l-1.37-1.37c-.4-.4-.92-.59-1.43-.59-.52 0-1.04.2-1.43.59L10.3 9.45l-7.72 7.72c-.78.78-.78 2.05 0 2.83L4 21.41c.39.39.9.59 1.41.59.51 0 1.02-.2 1.41-.59l7.78-7.78 2.81-2.81c.8-.78.8-2.07 0-2.86zM5.41 20L4 18.59l7.72-7.72 1.47 1.35L5.41 20z\"/>\n",
              "  </svg>\n",
              "      </button>\n",
              "      \n",
              "  <style>\n",
              "    .colab-df-container {\n",
              "      display:flex;\n",
              "      flex-wrap:wrap;\n",
              "      gap: 12px;\n",
              "    }\n",
              "\n",
              "    .colab-df-convert {\n",
              "      background-color: #E8F0FE;\n",
              "      border: none;\n",
              "      border-radius: 50%;\n",
              "      cursor: pointer;\n",
              "      display: none;\n",
              "      fill: #1967D2;\n",
              "      height: 32px;\n",
              "      padding: 0 0 0 0;\n",
              "      width: 32px;\n",
              "    }\n",
              "\n",
              "    .colab-df-convert:hover {\n",
              "      background-color: #E2EBFA;\n",
              "      box-shadow: 0px 1px 2px rgba(60, 64, 67, 0.3), 0px 1px 3px 1px rgba(60, 64, 67, 0.15);\n",
              "      fill: #174EA6;\n",
              "    }\n",
              "\n",
              "    [theme=dark] .colab-df-convert {\n",
              "      background-color: #3B4455;\n",
              "      fill: #D2E3FC;\n",
              "    }\n",
              "\n",
              "    [theme=dark] .colab-df-convert:hover {\n",
              "      background-color: #434B5C;\n",
              "      box-shadow: 0px 1px 3px 1px rgba(0, 0, 0, 0.15);\n",
              "      filter: drop-shadow(0px 1px 2px rgba(0, 0, 0, 0.3));\n",
              "      fill: #FFFFFF;\n",
              "    }\n",
              "  </style>\n",
              "\n",
              "      <script>\n",
              "        const buttonEl =\n",
              "          document.querySelector('#df-79696001-e1d3-4dd3-822d-949b721a6717 button.colab-df-convert');\n",
              "        buttonEl.style.display =\n",
              "          google.colab.kernel.accessAllowed ? 'block' : 'none';\n",
              "\n",
              "        async function convertToInteractive(key) {\n",
              "          const element = document.querySelector('#df-79696001-e1d3-4dd3-822d-949b721a6717');\n",
              "          const dataTable =\n",
              "            await google.colab.kernel.invokeFunction('convertToInteractive',\n",
              "                                                     [key], {});\n",
              "          if (!dataTable) return;\n",
              "\n",
              "          const docLinkHtml = 'Like what you see? Visit the ' +\n",
              "            '<a target=\"_blank\" href=https://colab.research.google.com/notebooks/data_table.ipynb>data table notebook</a>'\n",
              "            + ' to learn more about interactive tables.';\n",
              "          element.innerHTML = '';\n",
              "          dataTable['output_type'] = 'display_data';\n",
              "          await google.colab.output.renderOutput(dataTable, element);\n",
              "          const docLink = document.createElement('div');\n",
              "          docLink.innerHTML = docLinkHtml;\n",
              "          element.appendChild(docLink);\n",
              "        }\n",
              "      </script>\n",
              "    </div>\n",
              "  </div>\n",
              "  "
            ]
          },
          "metadata": {},
          "execution_count": 13
        }
      ]
    },
    {
      "cell_type": "code",
      "source": [
        "mas_escuchados_canciones = df[df['user_id'] == \"user_000001\"].groupby(\"track_name\").count()\n",
        "mas_escuchados_canciones = mas_escuchados_canciones.sort_values('user_id',ascending=False)\n",
        "mas_escuchados_canciones = mas_escuchados_canciones.iloc[:5].index\n",
        "mas_escuchados_canciones.values"
      ],
      "metadata": {
        "colab": {
          "base_uri": "https://localhost:8080/"
        },
        "id": "oBCOJu2gq04_",
        "outputId": "732b09ad-9754-46e3-b51e-ff8d74c98876"
      },
      "execution_count": 15,
      "outputs": [
        {
          "output_type": "execute_result",
          "data": {
            "text/plain": [
              "array(['MUSIC', 'GUM', 'CHILD SONG', 'HIBARI', 'TO BUILD A HOME'],\n",
              "      dtype=object)"
            ]
          },
          "metadata": {},
          "execution_count": 15
        }
      ]
    },
    {
      "cell_type": "code",
      "source": [
        "mas_escuchados_canciones_tiempo = df[df['user_id'] == \"user_000001\"].groupby(\"date_played\").count()\n",
        "mas_escuchados_canciones_tiempo = mas_escuchados_canciones_tiempo.sort_values('dur_secs',ascending=False)\n",
        "mas_escuchados_canciones_tiempo = mas_escuchados_canciones_tiempo.iloc[:5].index\n",
        "mas_escuchados_canciones_tiempo.values\n"
      ],
      "metadata": {
        "colab": {
          "base_uri": "https://localhost:8080/"
        },
        "id": "d3UrK7czv3Pf",
        "outputId": "c3656a5c-ae85-4a06-9403-77f710655364"
      },
      "execution_count": 16,
      "outputs": [
        {
          "output_type": "execute_result",
          "data": {
            "text/plain": [
              "array(['2009-02-05', '2006-10-24', '2008-06-10', '2009-01-05',\n",
              "       '2009-03-04'], dtype=object)"
            ]
          },
          "metadata": {},
          "execution_count": 16
        }
      ]
    },
    {
      "cell_type": "code",
      "source": [
        "# Descripción variable artista\n",
        "artist_name = pd.DataFrame(df['artist_name'].value_counts())\n",
        "artist_name[\"index\"] = artist_name.index\n",
        "artist_name.rename(columns={'index':'artist_name', 'artist_name':'valores'}, inplace=True)\n",
        "artist_name.columns\n"
      ],
      "metadata": {
        "colab": {
          "base_uri": "https://localhost:8080/"
        },
        "id": "Ug668p4na4Fm",
        "outputId": "f3af72a0-1ec4-4a06-fd6d-7c43f16b3fc9"
      },
      "execution_count": 17,
      "outputs": [
        {
          "output_type": "execute_result",
          "data": {
            "text/plain": [
              "Index(['valores', 'artist_name'], dtype='object')"
            ]
          },
          "metadata": {},
          "execution_count": 17
        }
      ]
    },
    {
      "cell_type": "code",
      "source": [
        "import matplotlib.pyplot as plt\n",
        "import seaborn as sns\n",
        "from matplotlib import pyplot as plt\n",
        "\n",
        "plt.figure(figsize=(16,10))\n",
        "sns.barplot(x=\"artist_name\", y=\"valores\", data=artist_name.head(20)).set_title('Cantidad de reproducciones por artista')\n",
        "plt.xticks(rotation=70)\n",
        "plt.show()\n",
        "plt.savefig('reproducciones.png')"
      ],
      "metadata": {
        "colab": {
          "base_uri": "https://localhost:8080/",
          "height": 746
        },
        "id": "bCZ4KbICVtdy",
        "outputId": "e29f8147-a046-4c50-c0f7-9b7b75ebe4c2"
      },
      "execution_count": 18,
      "outputs": [
        {
          "output_type": "display_data",
          "data": {
            "text/plain": [
              "<Figure size 1152x720 with 1 Axes>"
            ],
            "image/png": "[encoded data removed]"
          },
          "metadata": {
            "needs_background": "light"
          }
        },
        {
          "output_type": "display_data",
          "data": {
            "text/plain": [
              "<Figure size 432x288 with 0 Axes>"
            ]
          },
          "metadata": {}
        }
      ]
    },
    {
      "cell_type": "code",
      "source": [
        "# Descripción variable canción (sin limpieza)\n",
        "track_name = pd.DataFrame(df['track_name'].value_counts())\n",
        "track_name[\"index\"] = track_name.index\n",
        "track_name.rename(columns={'index':'track_name', 'track_name':'valores'}, inplace=True)\n",
        "track_name.columns"
      ],
      "metadata": {
        "colab": {
          "base_uri": "https://localhost:8080/"
        },
        "id": "zctsOj05x5Tn",
        "outputId": "524d5fb3-ecb9-4817-f11a-dc7628ba87b3"
      },
      "execution_count": 19,
      "outputs": [
        {
          "output_type": "execute_result",
          "data": {
            "text/plain": [
              "Index(['valores', 'track_name'], dtype='object')"
            ]
          },
          "metadata": {},
          "execution_count": 19
        }
      ]
    },
    {
      "cell_type": "code",
      "source": [
        "plt.figure(figsize=(16,10))\n",
        "sns.barplot(x=\"track_name\", y=\"valores\", data=track_name.head(20)).set_title('Cantidad de registros encontrados por canción')\n",
        "plt.xticks(rotation=70)\n",
        "plt.show()"
      ],
      "metadata": {
        "colab": {
          "base_uri": "https://localhost:8080/",
          "height": 741
        },
        "id": "YJMuXRq4x2Nx",
        "outputId": "dccbf394-22f2-4b89-a00e-e96d5985ee10"
      },
      "execution_count": 20,
      "outputs": [
        {
          "output_type": "display_data",
          "data": {
            "text/plain": [
              "<Figure size 1152x720 with 1 Axes>"
            ],
            "image/png": "[encoded data removed]"
          },
          "metadata": {
            "needs_background": "light"
          }
        }
      ]
    },
    {
      "cell_type": "code",
      "source": [
        "!pip install surprise"
      ],
      "metadata": {
        "colab": {
          "base_uri": "https://localhost:8080/"
        },
        "id": "wAAkMvrZboHi",
        "outputId": "3fc983b9-3450-44b6-9df4-5ed36cfbd0e5"
      },
      "execution_count": 21,
      "outputs": [
        {
          "output_type": "stream",
          "name": "stdout",
          "text": [
            "Collecting surprise\n",
            "  Downloading surprise-0.1-py2.py3-none-any.whl (1.8 kB)\n",
            "Collecting scikit-surprise\n",
            "  Downloading scikit-surprise-1.1.1.tar.gz (11.8 MB)\n",
            "\u001b[K     |████████████████████████████████| 11.8 MB 4.5 MB/s \n",
            "\u001b[?25hRequirement already satisfied: joblib>=0.11 in /usr/local/lib/python3.7/dist-packages (from scikit-surprise->surprise) (1.1.0)\n",
            "Requirement already satisfied: numpy>=1.11.2 in /usr/local/lib/python3.7/dist-packages (from scikit-surprise->surprise) (1.21.5)\n",
            "Requirement already satisfied: scipy>=1.0.0 in /usr/local/lib/python3.7/dist-packages (from scikit-surprise->surprise) (1.4.1)\n",
            "Requirement already satisfied: six>=1.10.0 in /usr/local/lib/python3.7/dist-packages (from scikit-surprise->surprise) (1.15.0)\n",
            "Building wheels for collected packages: scikit-surprise\n",
            "  Building wheel for scikit-surprise (setup.py) ... \u001b[?25l\u001b[?25hdone\n",
            "  Created wheel for scikit-surprise: filename=scikit_surprise-1.1.1-cp37-cp37m-linux_x86_64.whl size=1630192 sha256=5e4de6454af608ee27ee0eeac1ed1a9e8e689bf0c0cb987a05a33729cd34edb7\n",
            "  Stored in directory: /root/.cache/pip/wheels/76/44/74/b498c42be47b2406bd27994e16c5188e337c657025ab400c1c\n",
            "Successfully built scikit-surprise\n",
            "Installing collected packages: scikit-surprise, surprise\n",
            "Successfully installed scikit-surprise-1.1.1 surprise-0.1\n"
          ]
        }
      ]
    },
    {
      "cell_type": "code",
      "source": [
        "#Recomendaciones\n",
        "import pickle\n",
        "from surprise import dump, Dataset, Reader\n",
        "\n",
        "downloaded.GetContentFile('matriz_entrenamiento.parquet')\n",
        "downloaded.GetContentFile('model.pkl')\n",
        "downloaded.GetContentFile('modelo')"
      ],
      "metadata": {
        "id": "imRo4n8DZOQa"
      },
      "execution_count": 44,
      "outputs": []
    },
    {
      "cell_type": "code",
      "source": [
        "from collections import defaultdict\n",
        "# formula tomada de la documentación de surprise\n",
        "def get_top_n(predictions, n=10):\n",
        "    \"\"\"Return the top-N recommendation for each user from a set of predictions.\n",
        "\n",
        "    Args:\n",
        "        predictions(list of Prediction objects): The list of predictions, as\n",
        "            returned by the test method of an algorithm.\n",
        "        n(int): The number of recommendation to output for each user. Default\n",
        "            is 10.\n",
        "\n",
        "    Returns:\n",
        "    A dict where keys are user (raw) ids and values are lists of tuples:\n",
        "        [(raw item id, rating estimation), ...] of size n.\n",
        "    \"\"\"\n",
        "\n",
        "    # First map the predictions to each user.\n",
        "    top_n = defaultdict(list)\n",
        "    for uid, iid, true_r, est, _ in predictions:\n",
        "        top_n[uid].append((iid, est))\n",
        "\n",
        "    # Then sort the predictions for each user and retrieve the k highest ones.\n",
        "    for uid, user_ratings in top_n.items():\n",
        "        user_ratings.sort(key=lambda x: x[1], reverse=True)\n",
        "        top_n[uid] = user_ratings[:n]\n",
        "\n",
        "    return top_n"
      ],
      "metadata": {
        "id": "Shmnkvz9OKAx"
      },
      "execution_count": 94,
      "outputs": []
    },
    {
      "cell_type": "code",
      "source": [
        "x_df = pd.read_parquet(\"matriz_entrenamiento.parquet\")\n",
        "x_df"
      ],
      "metadata": {
        "colab": {
          "base_uri": "https://localhost:8080/",
          "height": 424
        },
        "id": "nDnbJJw5Wo06",
        "outputId": "46118785-cf7a-4ee2-b901-3618756430c9"
      },
      "execution_count": 124,
      "outputs": [
        {
          "output_type": "execute_result",
          "data": {
            "text/plain": [
              "           user_id                             artist_id      rating\n",
              "0      user_000499  bf710b71-48e5-4e15-9bd6-96debb2e4e98  247.196702\n",
              "1      user_000768  83e59f23-3b0b-4304-834d-5bcafd5df6d2  193.352673\n",
              "2      user_000458  b6c18308-82c7-4ec1-a42d-e8488bce6618  171.230550\n",
              "3      user_000008  164f0d73-1234-4e2c-8743-d77bf2191051  154.132607\n",
              "4      user_000033  ab309b83-904f-4e2c-8d11-a0223bba51f9  134.989429\n",
              "...            ...                                   ...         ...\n",
              "19901  user_000445  5a6e19e0-3ff0-4b3d-869e-3c539d6d8707    0.010014\n",
              "19902  user_000322  10bf95b6-30e3-44f1-817f-45762cdc0de0    0.010014\n",
              "19903  user_000162  83b9cbe7-9857-49e2-ab8e-b57b01038103    0.010007\n",
              "19904  user_000224  11ae9fbb-f3d7-4a47-936f-4c0a04d3b3b5    0.010007\n",
              "19905  user_000705  3798b104-01cb-484c-a3b0-56adc6399b80    0.010002\n",
              "\n",
              "[19906 rows x 3 columns]"
            ],
            "text/html": [
              "\n",
              "  <div id=\"df-b28a68cb-9b14-4d56-ae46-778767af79cd\">\n",
              "    <div class=\"colab-df-container\">\n",
              "      <div>\n",
              "<style scoped>\n",
              "    .dataframe tbody tr th:only-of-type {\n",
              "        vertical-align: middle;\n",
              "    }\n",
              "\n",
              "    .dataframe tbody tr th {\n",
              "        vertical-align: top;\n",
              "    }\n",
              "\n",
              "    .dataframe thead th {\n",
              "        text-align: right;\n",
              "    }\n",
              "</style>\n",
              "<table border=\"1\" class=\"dataframe\">\n",
              "  <thead>\n",
              "    <tr style=\"text-align: right;\">\n",
              "      <th></th>\n",
              "      <th>user_id</th>\n",
              "      <th>artist_id</th>\n",
              "      <th>rating</th>\n",
              "    </tr>\n",
              "  </thead>\n",
              "  <tbody>\n",
              "    <tr>\n",
              "      <th>0</th>\n",
              "      <td>user_000499</td>\n",
              "      <td>bf710b71-48e5-4e15-9bd6-96debb2e4e98</td>\n",
              "      <td>247.196702</td>\n",
              "    </tr>\n",
              "    <tr>\n",
              "      <th>1</th>\n",
              "      <td>user_000768</td>\n",
              "      <td>83e59f23-3b0b-4304-834d-5bcafd5df6d2</td>\n",
              "      <td>193.352673</td>\n",
              "    </tr>\n",
              "    <tr>\n",
              "      <th>2</th>\n",
              "      <td>user_000458</td>\n",
              "      <td>b6c18308-82c7-4ec1-a42d-e8488bce6618</td>\n",
              "      <td>171.230550</td>\n",
              "    </tr>\n",
              "    <tr>\n",
              "      <th>3</th>\n",
              "      <td>user_000008</td>\n",
              "      <td>164f0d73-1234-4e2c-8743-d77bf2191051</td>\n",
              "      <td>154.132607</td>\n",
              "    </tr>\n",
              "    <tr>\n",
              "      <th>4</th>\n",
              "      <td>user_000033</td>\n",
              "      <td>ab309b83-904f-4e2c-8d11-a0223bba51f9</td>\n",
              "      <td>134.989429</td>\n",
              "    </tr>\n",
              "    <tr>\n",
              "      <th>...</th>\n",
              "      <td>...</td>\n",
              "      <td>...</td>\n",
              "      <td>...</td>\n",
              "    </tr>\n",
              "    <tr>\n",
              "      <th>19901</th>\n",
              "      <td>user_000445</td>\n",
              "      <td>5a6e19e0-3ff0-4b3d-869e-3c539d6d8707</td>\n",
              "      <td>0.010014</td>\n",
              "    </tr>\n",
              "    <tr>\n",
              "      <th>19902</th>\n",
              "      <td>user_000322</td>\n",
              "      <td>10bf95b6-30e3-44f1-817f-45762cdc0de0</td>\n",
              "      <td>0.010014</td>\n",
              "    </tr>\n",
              "    <tr>\n",
              "      <th>19903</th>\n",
              "      <td>user_000162</td>\n",
              "      <td>83b9cbe7-9857-49e2-ab8e-b57b01038103</td>\n",
              "      <td>0.010007</td>\n",
              "    </tr>\n",
              "    <tr>\n",
              "      <th>19904</th>\n",
              "      <td>user_000224</td>\n",
              "      <td>11ae9fbb-f3d7-4a47-936f-4c0a04d3b3b5</td>\n",
              "      <td>0.010007</td>\n",
              "    </tr>\n",
              "    <tr>\n",
              "      <th>19905</th>\n",
              "      <td>user_000705</td>\n",
              "      <td>3798b104-01cb-484c-a3b0-56adc6399b80</td>\n",
              "      <td>0.010002</td>\n",
              "    </tr>\n",
              "  </tbody>\n",
              "</table>\n",
              "<p>19906 rows × 3 columns</p>\n",
              "</div>\n",
              "      <button class=\"colab-df-convert\" onclick=\"convertToInteractive('df-b28a68cb-9b14-4d56-ae46-778767af79cd')\"\n",
              "              title=\"Convert this dataframe to an interactive table.\"\n",
              "              style=\"display:none;\">\n",
              "        \n",
              "  <svg xmlns=\"http://www.w3.org/2000/svg\" height=\"24px\"viewBox=\"0 0 24 24\"\n",
              "       width=\"24px\">\n",
              "    <path d=\"M0 0h24v24H0V0z\" fill=\"none\"/>\n",
              "    <path d=\"M18.56 5.44l.94 2.06.94-2.06 2.06-.94-2.06-.94-.94-2.06-.94 2.06-2.06.94zm-11 1L8.5 8.5l.94-2.06 2.06-.94-2.06-.94L8.5 2.5l-.94 2.06-2.06.94zm10 10l.94 2.06.94-2.06 2.06-.94-2.06-.94-.94-2.06-.94 2.06-2.06.94z\"/><path d=\"M17.41 7.96l-1.37-1.37c-.4-.4-.92-.59-1.43-.59-.52 0-1.04.2-1.43.59L10.3 9.45l-7.72 7.72c-.78.78-.78 2.05 0 2.83L4 21.41c.39.39.9.59 1.41.59.51 0 1.02-.2 1.41-.59l7.78-7.78 2.81-2.81c.8-.78.8-2.07 0-2.86zM5.41 20L4 18.59l7.72-7.72 1.47 1.35L5.41 20z\"/>\n",
              "  </svg>\n",
              "      </button>\n",
              "      \n",
              "  <style>\n",
              "    .colab-df-container {\n",
              "      display:flex;\n",
              "      flex-wrap:wrap;\n",
              "      gap: 12px;\n",
              "    }\n",
              "\n",
              "    .colab-df-convert {\n",
              "      background-color: #E8F0FE;\n",
              "      border: none;\n",
              "      border-radius: 50%;\n",
              "      cursor: pointer;\n",
              "      display: none;\n",
              "      fill: #1967D2;\n",
              "      height: 32px;\n",
              "      padding: 0 0 0 0;\n",
              "      width: 32px;\n",
              "    }\n",
              "\n",
              "    .colab-df-convert:hover {\n",
              "      background-color: #E2EBFA;\n",
              "      box-shadow: 0px 1px 2px rgba(60, 64, 67, 0.3), 0px 1px 3px 1px rgba(60, 64, 67, 0.15);\n",
              "      fill: #174EA6;\n",
              "    }\n",
              "\n",
              "    [theme=dark] .colab-df-convert {\n",
              "      background-color: #3B4455;\n",
              "      fill: #D2E3FC;\n",
              "    }\n",
              "\n",
              "    [theme=dark] .colab-df-convert:hover {\n",
              "      background-color: #434B5C;\n",
              "      box-shadow: 0px 1px 3px 1px rgba(0, 0, 0, 0.15);\n",
              "      filter: drop-shadow(0px 1px 2px rgba(0, 0, 0, 0.3));\n",
              "      fill: #FFFFFF;\n",
              "    }\n",
              "  </style>\n",
              "\n",
              "      <script>\n",
              "        const buttonEl =\n",
              "          document.querySelector('#df-b28a68cb-9b14-4d56-ae46-778767af79cd button.colab-df-convert');\n",
              "        buttonEl.style.display =\n",
              "          google.colab.kernel.accessAllowed ? 'block' : 'none';\n",
              "\n",
              "        async function convertToInteractive(key) {\n",
              "          const element = document.querySelector('#df-b28a68cb-9b14-4d56-ae46-778767af79cd');\n",
              "          const dataTable =\n",
              "            await google.colab.kernel.invokeFunction('convertToInteractive',\n",
              "                                                     [key], {});\n",
              "          if (!dataTable) return;\n",
              "\n",
              "          const docLinkHtml = 'Like what you see? Visit the ' +\n",
              "            '<a target=\"_blank\" href=https://colab.research.google.com/notebooks/data_table.ipynb>data table notebook</a>'\n",
              "            + ' to learn more about interactive tables.';\n",
              "          element.innerHTML = '';\n",
              "          dataTable['output_type'] = 'display_data';\n",
              "          await google.colab.output.renderOutput(dataTable, element);\n",
              "          const docLink = document.createElement('div');\n",
              "          docLink.innerHTML = docLinkHtml;\n",
              "          element.appendChild(docLink);\n",
              "        }\n",
              "      </script>\n",
              "    </div>\n",
              "  </div>\n",
              "  "
            ]
          },
          "metadata": {},
          "execution_count": 124
        }
      ]
    },
    {
      "cell_type": "code",
      "source": [
        "reader = Reader( rating_scale = ( 0, 250 ) )\n",
        "#Se crea el dataset a partir del dataframe\n",
        "df_temp = x_df[['user_id', 'artist_id', 'rating']]\n",
        "df_temp = df_temp[df_temp['user_id'] == \"user_000001\"]\n",
        "surprise_dataset = Dataset.load_from_df(df_temp, reader)\n",
        "\n",
        "from surprise.model_selection import train_test_split\n",
        "trainset, testset = train_test_split(surprise_dataset, test_size=.99)\n",
        "testset"
      ],
      "metadata": {
        "colab": {
          "base_uri": "https://localhost:8080/"
        },
        "id": "Zyi3bxxWWoEK",
        "outputId": "e0e44128-ed3e-4c35-81f9-554f7d232dd0"
      },
      "execution_count": 125,
      "outputs": [
        {
          "output_type": "execute_result",
          "data": {
            "text/plain": [
              "[('user_000001', '1c70a3fc-fa3c-4be1-8b55-c3192db8a884', 0.028983187914222223),\n",
              " ('user_000001', '66a7f1f8-0ad6-4e3a-9346-a643e2739a8c', 0.012995971371942607),\n",
              " ('user_000001', 'ec4e96b9-a5fc-4eea-9c69-2cc2a395f46e', 0.10357150367198222),\n",
              " ('user_000001', '7e54d133-2525-4bc0-ae94-65584145a386', 1.5802399777826808),\n",
              " ('user_000001', '1292906d-cd67-4158-a3d6-19c7c9df3e8f', 0.5490812897690713),\n",
              " ('user_000001', 'a3031680-c359-458f-a641-70ccbaec6a74', 0.02241296914087378),\n",
              " ('user_000001', 'bc3d74c5-9328-4a1b-8014-3ecdb3dababe', 0.031218456900206974),\n",
              " ('user_000001', 'df765d93-621c-437f-99fe-fda9e135f89a', 3.182559178781516),\n",
              " ('user_000001', 'ba2f4f3b-0293-4bc8-bb94-2f73b5207343', 3.008771763035638),\n",
              " ('user_000001', 'a7f7df4a-77d8-4f12-8acd-5c60c93f4de8', 1.97143718203362),\n",
              " ('user_000001', 'f6ed9964-eb6b-4bed-81f9-277a2c50a833', 0.02165410840867838),\n",
              " ('user_000001', 'a7835277-ab17-4506-a033-60f018757b84', 0.018690459205892233),\n",
              " ('user_000001', '7c158ea8-c0aa-410e-bdc1-20bba9759577', 0.08426708249773261),\n",
              " ('user_000001', '76da816f-ea05-4172-ad9e-ffb69c32199f', 0.15021833825928735),\n",
              " ('user_000001', 'eab8228c-a9c8-4ddb-a93d-ffca74a379bf', 0.03601924792101267),\n",
              " ('user_000001', 'a78d2a35-c083-4179-a5d8-49f84e5ec863', 0.08754489961875835),\n",
              " ('user_000001', 'fc7376fe-1a6f-4414-b4a7-83f50ed59c92', 0.09563106955974802),\n",
              " ('user_000001', '440cb8ef-cee3-4711-8408-b1bd6e93f390', 0.6716859749933487),\n",
              " ('user_000001', '56a70482-5528-4bef-8da2-a33cf098ce9b', 1.3530482991076338),\n",
              " ('user_000001', '87c5dedd-371d-4a53-9f7f-80522fb7f3cb', 0.09030859879931415),\n",
              " ('user_000001', '3d05eb8b-1644-4143-9a61-b28e33c4d85f', 0.05644648606008668),\n",
              " ('user_000001', '0a6eb633-fb2c-4683-9783-58c4e86ea740', 0.010259271830164538),\n",
              " ('user_000001', '4d86ad4e-28d8-4e9f-8cf4-735c57060fdc', 0.023039240591351404),\n",
              " ('user_000001', '0356daee-ec48-4495-bc3e-460b8a5eacad', 0.103484968150249),\n",
              " ('user_000001', 'eddab03d-b673-4b70-863f-6a9cf45a779f', 0.05937278517440339)]"
            ]
          },
          "metadata": {},
          "execution_count": 125
        }
      ]
    },
    {
      "cell_type": "code",
      "source": [
        "model = dump.load(\"./modelo\")[1]\n",
        "print(model)\n"
      ],
      "metadata": {
        "colab": {
          "base_uri": "https://localhost:8080/"
        },
        "id": "v-AZ3D5qa4J3",
        "outputId": "1c0e9dfa-46f4-4f95-c27d-aeca82dd4cd3"
      },
      "execution_count": 66,
      "outputs": [
        {
          "output_type": "stream",
          "name": "stdout",
          "text": [
            "<surprise.prediction_algorithms.knns.KNNBasic object at 0x7fe5fd9a6690>\n"
          ]
        }
      ]
    },
    {
      "cell_type": "code",
      "source": [
        "model.predict(\"user_000001\", \"df765d93-621c-437f-99fe-fda9e135f89a\")"
      ],
      "metadata": {
        "colab": {
          "base_uri": "https://localhost:8080/"
        },
        "id": "mOcYy5I6Zsm0",
        "outputId": "8a1105ea-9d1c-43f9-adea-6b7166f72270"
      },
      "execution_count": 71,
      "outputs": [
        {
          "output_type": "execute_result",
          "data": {
            "text/plain": [
              "Prediction(uid='user_000001', iid='df765d93-621c-437f-99fe-fda9e135f89a', r_ui=None, est=0.7912860820201302, details={'was_impossible': True, 'reason': 'Not enough neighbors.'})"
            ]
          },
          "metadata": {},
          "execution_count": 71
        }
      ]
    },
    {
      "cell_type": "code",
      "source": [
        "predictions_model = model.test(testset)\n",
        "top_n_model = get_top_n(predictions_model, n=5)\n",
        "top_n_model"
      ],
      "metadata": {
        "colab": {
          "base_uri": "https://localhost:8080/"
        },
        "id": "gnkMmRyrYg1x",
        "outputId": "704a65ff-16e2-4493-d42a-b0b56a81d21a"
      },
      "execution_count": 126,
      "outputs": [
        {
          "output_type": "execute_result",
          "data": {
            "text/plain": [
              "defaultdict(list,\n",
              "            {'user_000001': [('1c70a3fc-fa3c-4be1-8b55-c3192db8a884',\n",
              "               0.7912860820201302),\n",
              "              ('66a7f1f8-0ad6-4e3a-9346-a643e2739a8c', 0.7912860820201302),\n",
              "              ('ec4e96b9-a5fc-4eea-9c69-2cc2a395f46e', 0.7912860820201302),\n",
              "              ('7e54d133-2525-4bc0-ae94-65584145a386', 0.7912860820201302),\n",
              "              ('1292906d-cd67-4158-a3d6-19c7c9df3e8f', 0.7912860820201302)]})"
            ]
          },
          "metadata": {},
          "execution_count": 126
        }
      ]
    },
    {
      "cell_type": "code",
      "source": [
        "list_key = [i for i in top_n_model if top_n_model[i]!=top_n_model.default_factory()]\n",
        "list_key"
      ],
      "metadata": {
        "colab": {
          "base_uri": "https://localhost:8080/"
        },
        "id": "NY8aF_wneOtT",
        "outputId": "c1508caf-a146-434a-ffa3-0b5fb071c6e7"
      },
      "execution_count": 127,
      "outputs": [
        {
          "output_type": "execute_result",
          "data": {
            "text/plain": [
              "['user_000001']"
            ]
          },
          "metadata": {},
          "execution_count": 127
        }
      ]
    },
    {
      "cell_type": "code",
      "source": [
        "list_value = [v for k,v in top_n_model.items() if v!=top_n_model.default_factory()]\n",
        "list_value"
      ],
      "metadata": {
        "colab": {
          "base_uri": "https://localhost:8080/"
        },
        "id": "3eJmsUnJfbrz",
        "outputId": "7156d630-232b-4782-cabe-982457b4efcb"
      },
      "execution_count": 128,
      "outputs": [
        {
          "output_type": "execute_result",
          "data": {
            "text/plain": [
              "[[('1c70a3fc-fa3c-4be1-8b55-c3192db8a884', 0.7912860820201302),\n",
              "  ('66a7f1f8-0ad6-4e3a-9346-a643e2739a8c', 0.7912860820201302),\n",
              "  ('ec4e96b9-a5fc-4eea-9c69-2cc2a395f46e', 0.7912860820201302),\n",
              "  ('7e54d133-2525-4bc0-ae94-65584145a386', 0.7912860820201302),\n",
              "  ('1292906d-cd67-4158-a3d6-19c7c9df3e8f', 0.7912860820201302)]]"
            ]
          },
          "metadata": {},
          "execution_count": 128
        }
      ]
    },
    {
      "cell_type": "code",
      "source": [
        "dict_temp = dict()\n",
        "for i in range(0, 5):\n",
        "  print(list_value[0][i][0], list_value[0][i][1])\n",
        "  print(df[df['artist_id'] == list_value[0][i][0]][\"artist_name\"].iloc[0])\n",
        "  dict_temp[df[df['artist_id'] == list_value[0][i][0]][\"artist_name\"].iloc[0]] = round(list_value[0][i][1], 2) * 100\n",
        "  print(\"###################\")\n"
      ],
      "metadata": {
        "colab": {
          "base_uri": "https://localhost:8080/"
        },
        "id": "Mq6551iPf1sn",
        "outputId": "f7273473-974a-4085-d486-f97f30005be6"
      },
      "execution_count": 145,
      "outputs": [
        {
          "output_type": "stream",
          "name": "stdout",
          "text": [
            "1c70a3fc-fa3c-4be1-8b55-c3192db8a884 0.7912860820201302\n",
            "RÃ¶YKSOPP\n",
            "###################\n",
            "66a7f1f8-0ad6-4e3a-9346-a643e2739a8c 0.7912860820201302\n",
            "PAT METHENY GROUP\n",
            "###################\n",
            "ec4e96b9-a5fc-4eea-9c69-2cc2a395f46e 0.7912860820201302\n",
            "SCSI 9\n",
            "###################\n",
            "7e54d133-2525-4bc0-ae94-65584145a386 0.7912860820201302\n",
            "PLAID\n",
            "###################\n",
            "1292906d-cd67-4158-a3d6-19c7c9df3e8f 0.7912860820201302\n",
            "LOCO DICE\n",
            "###################\n"
          ]
        }
      ]
    },
    {
      "cell_type": "code",
      "source": [
        "dict_temp"
      ],
      "metadata": {
        "colab": {
          "base_uri": "https://localhost:8080/"
        },
        "id": "zP4mFibYirjf",
        "outputId": "c7ab6174-f085-48d3-80c6-14bc86e7269f"
      },
      "execution_count": 146,
      "outputs": [
        {
          "output_type": "execute_result",
          "data": {
            "text/plain": [
              "{'LOCO DICE': 79.0,\n",
              " 'PAT METHENY GROUP': 79.0,\n",
              " 'PLAID': 79.0,\n",
              " 'RÃ¶YKSOPP': 79.0,\n",
              " 'SCSI 9': 79.0}"
            ]
          },
          "metadata": {},
          "execution_count": 146
        }
      ]
    },
    {
      "cell_type": "code",
      "source": [
        "dict_temp = {0: ['RÃ¶YKSOPP', 79.0], 1: ['PLAID', 79.0], 2: ['RICHIE HAWTIN', 79.0], 3: ['4HERO', 79.0], 4: ['BJÃ¶RK', 79.0]}\n",
        "print(dict_temp[0][0])\n",
        "print(dict_temp[0][1])"
      ],
      "metadata": {
        "colab": {
          "base_uri": "https://localhost:8080/"
        },
        "id": "PaCTrGu5mmLf",
        "outputId": "ad26b3ef-8c89-4801-9a9d-ab0cde1f3b9f"
      },
      "execution_count": 152,
      "outputs": [
        {
          "output_type": "stream",
          "name": "stdout",
          "text": [
            "RÃ¶YKSOPP\n",
            "79.0\n"
          ]
        }
      ]
    }
  ]
}